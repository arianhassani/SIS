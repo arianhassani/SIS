{
 "cells": [
  {
   "cell_type": "code",
   "execution_count": 44,
   "id": "003a335d-a781-48db-a7ff-6b74d5fc194c",
   "metadata": {},
   "outputs": [],
   "source": [
    "from nba_api.stats.endpoints import leaguegamelog\n",
    "import time\n",
    "def get_all_games(start_year=1946, end_year=2023):\n",
    "  results = []\n",
    "  for year in range(start_year, end_year):\n",
    "    season = '{}-{}'.format(year, str(year + 1)[-2:])\n",
    "    res = leaguegamelog.LeagueGameLog(counter=10000, season=season)\n",
    "    res_frame = res.get_data_frames()[0]\n",
    "    results.append(res_frame)\n",
    "    time.sleep(1)\n",
    "  return results\n",
    "    \n",
    "seasons = get_all_games(2022, 2024)"
   ]
  },
  {
   "cell_type": "code",
   "execution_count": 45,
   "id": "7a32fd65-23b9-4442-ab71-11cc6835033e",
   "metadata": {},
   "outputs": [],
   "source": [
    "# games retrieved include the stats for both teams as separate rows, so put them in 'home' or 'away' respectively\n",
    "def map_home_and_away(seasons):\n",
    "  results_all_season = []\n",
    "  for season in seasons:\n",
    "    results_for_season = []\n",
    "    results_for_season.append(season[season.duplicated(subset='GAME_ID', keep='first')])\n",
    "    results_for_season.append(season[season.duplicated(subset='GAME_ID', keep='last')])\n",
    "\n",
    "    results_all_season.append(results_for_season)\n",
    "    \n",
    "  return results_all_season\n",
    "\n",
    "# seasons_home_and_away = map_home_and_away(results)"
   ]
  },
  {
   "cell_type": "code",
   "execution_count": 59,
   "id": "75607a06-d5f8-43e8-9430-99be35be68d9",
   "metadata": {},
   "outputs": [
    {
     "ename": "ValueError",
     "evalue": "could not convert string to float: 'PHI'",
     "output_type": "error",
     "traceback": [
      "\u001b[0;31m---------------------------------------------------------------------------\u001b[0m",
      "\u001b[0;31mValueError\u001b[0m                                Traceback (most recent call last)",
      "Cell \u001b[0;32mIn[59], line 21\u001b[0m\n\u001b[1;32m     17\u001b[0m   seasons_np \u001b[38;5;241m=\u001b[39m np\u001b[38;5;241m.\u001b[39marray(seasons, dtype\u001b[38;5;241m=\u001b[39mnp\u001b[38;5;241m.\u001b[39mfloat32)\n\u001b[1;32m     19\u001b[0m   \u001b[38;5;28;01mreturn\u001b[39;00m seasons_np\n\u001b[0;32m---> 21\u001b[0m seasons_np \u001b[38;5;241m=\u001b[39m \u001b[43mpreprocess\u001b[49m\u001b[43m(\u001b[49m\u001b[43mseasons\u001b[49m\u001b[43m)\u001b[49m\n",
      "Cell \u001b[0;32mIn[59], line 14\u001b[0m, in \u001b[0;36mpreprocess\u001b[0;34m(seasons)\u001b[0m\n\u001b[1;32m      9\u001b[0m \u001b[38;5;66;03m# do whatever else with pandas before they are turned into numpy\u001b[39;00m\n\u001b[1;32m     10\u001b[0m \u001b[38;5;66;03m# ...\u001b[39;00m\n\u001b[1;32m     11\u001b[0m \n\u001b[1;32m     12\u001b[0m \u001b[38;5;66;03m# seasons_np = np.array((len(seasons), 2, 10000, 24), dtype=np.float32)\u001b[39;00m\n\u001b[1;32m     13\u001b[0m \u001b[38;5;28;01mfor\u001b[39;00m i, (home, away) \u001b[38;5;129;01min\u001b[39;00m \u001b[38;5;28menumerate\u001b[39m(seasons):\n\u001b[0;32m---> 14\u001b[0m   \u001b[43mhome\u001b[49m\u001b[38;5;241;43m.\u001b[39;49m\u001b[43mto_numpy\u001b[49m\u001b[43m(\u001b[49m\u001b[43mdtype\u001b[49m\u001b[38;5;241;43m=\u001b[39;49m\u001b[43mnp\u001b[49m\u001b[38;5;241;43m.\u001b[39;49m\u001b[43mfloat32\u001b[49m\u001b[43m)\u001b[49m\n\u001b[1;32m     15\u001b[0m   away\u001b[38;5;241m.\u001b[39mto_numpy(dtype\u001b[38;5;241m=\u001b[39mnp\u001b[38;5;241m.\u001b[39mfloat32)\n\u001b[1;32m     17\u001b[0m seasons_np \u001b[38;5;241m=\u001b[39m np\u001b[38;5;241m.\u001b[39marray(seasons, dtype\u001b[38;5;241m=\u001b[39mnp\u001b[38;5;241m.\u001b[39mfloat32)\n",
      "File \u001b[0;32m~/anaconda3/envs/defaultenv/lib/python3.12/site-packages/pandas/core/frame.py:1993\u001b[0m, in \u001b[0;36mDataFrame.to_numpy\u001b[0;34m(self, dtype, copy, na_value)\u001b[0m\n\u001b[1;32m   1991\u001b[0m \u001b[38;5;28;01mif\u001b[39;00m dtype \u001b[38;5;129;01mis\u001b[39;00m \u001b[38;5;129;01mnot\u001b[39;00m \u001b[38;5;28;01mNone\u001b[39;00m:\n\u001b[1;32m   1992\u001b[0m     dtype \u001b[38;5;241m=\u001b[39m np\u001b[38;5;241m.\u001b[39mdtype(dtype)\n\u001b[0;32m-> 1993\u001b[0m result \u001b[38;5;241m=\u001b[39m \u001b[38;5;28;43mself\u001b[39;49m\u001b[38;5;241;43m.\u001b[39;49m\u001b[43m_mgr\u001b[49m\u001b[38;5;241;43m.\u001b[39;49m\u001b[43mas_array\u001b[49m\u001b[43m(\u001b[49m\u001b[43mdtype\u001b[49m\u001b[38;5;241;43m=\u001b[39;49m\u001b[43mdtype\u001b[49m\u001b[43m,\u001b[49m\u001b[43m \u001b[49m\u001b[43mcopy\u001b[49m\u001b[38;5;241;43m=\u001b[39;49m\u001b[43mcopy\u001b[49m\u001b[43m,\u001b[49m\u001b[43m \u001b[49m\u001b[43mna_value\u001b[49m\u001b[38;5;241;43m=\u001b[39;49m\u001b[43mna_value\u001b[49m\u001b[43m)\u001b[49m\n\u001b[1;32m   1994\u001b[0m \u001b[38;5;28;01mif\u001b[39;00m result\u001b[38;5;241m.\u001b[39mdtype \u001b[38;5;129;01mis\u001b[39;00m \u001b[38;5;129;01mnot\u001b[39;00m dtype:\n\u001b[1;32m   1995\u001b[0m     result \u001b[38;5;241m=\u001b[39m np\u001b[38;5;241m.\u001b[39masarray(result, dtype\u001b[38;5;241m=\u001b[39mdtype)\n",
      "File \u001b[0;32m~/anaconda3/envs/defaultenv/lib/python3.12/site-packages/pandas/core/internals/managers.py:1694\u001b[0m, in \u001b[0;36mBlockManager.as_array\u001b[0;34m(self, dtype, copy, na_value)\u001b[0m\n\u001b[1;32m   1692\u001b[0m         arr\u001b[38;5;241m.\u001b[39mflags\u001b[38;5;241m.\u001b[39mwriteable \u001b[38;5;241m=\u001b[39m \u001b[38;5;28;01mFalse\u001b[39;00m\n\u001b[1;32m   1693\u001b[0m \u001b[38;5;28;01melse\u001b[39;00m:\n\u001b[0;32m-> 1694\u001b[0m     arr \u001b[38;5;241m=\u001b[39m \u001b[38;5;28;43mself\u001b[39;49m\u001b[38;5;241;43m.\u001b[39;49m\u001b[43m_interleave\u001b[49m\u001b[43m(\u001b[49m\u001b[43mdtype\u001b[49m\u001b[38;5;241;43m=\u001b[39;49m\u001b[43mdtype\u001b[49m\u001b[43m,\u001b[49m\u001b[43m \u001b[49m\u001b[43mna_value\u001b[49m\u001b[38;5;241;43m=\u001b[39;49m\u001b[43mna_value\u001b[49m\u001b[43m)\u001b[49m\n\u001b[1;32m   1695\u001b[0m     \u001b[38;5;66;03m# The underlying data was copied within _interleave, so no need\u001b[39;00m\n\u001b[1;32m   1696\u001b[0m     \u001b[38;5;66;03m# to further copy if copy=True or setting na_value\u001b[39;00m\n\u001b[1;32m   1698\u001b[0m \u001b[38;5;28;01mif\u001b[39;00m na_value \u001b[38;5;129;01mis\u001b[39;00m lib\u001b[38;5;241m.\u001b[39mno_default:\n",
      "File \u001b[0;32m~/anaconda3/envs/defaultenv/lib/python3.12/site-packages/pandas/core/internals/managers.py:1753\u001b[0m, in \u001b[0;36mBlockManager._interleave\u001b[0;34m(self, dtype, na_value)\u001b[0m\n\u001b[1;32m   1751\u001b[0m     \u001b[38;5;28;01melse\u001b[39;00m:\n\u001b[1;32m   1752\u001b[0m         arr \u001b[38;5;241m=\u001b[39m blk\u001b[38;5;241m.\u001b[39mget_values(dtype)\n\u001b[0;32m-> 1753\u001b[0m     \u001b[43mresult\u001b[49m\u001b[43m[\u001b[49m\u001b[43mrl\u001b[49m\u001b[38;5;241;43m.\u001b[39;49m\u001b[43mindexer\u001b[49m\u001b[43m]\u001b[49m \u001b[38;5;241m=\u001b[39m arr\n\u001b[1;32m   1754\u001b[0m     itemmask[rl\u001b[38;5;241m.\u001b[39mindexer] \u001b[38;5;241m=\u001b[39m \u001b[38;5;241m1\u001b[39m\n\u001b[1;32m   1756\u001b[0m \u001b[38;5;28;01mif\u001b[39;00m \u001b[38;5;129;01mnot\u001b[39;00m itemmask\u001b[38;5;241m.\u001b[39mall():\n",
      "\u001b[0;31mValueError\u001b[0m: could not convert string to float: 'PHI'"
     ]
    }
   ],
   "source": [
    "# TODO: string still present in fields SEASON_ID, GAME_ID, GAME_DATE, WL\n",
    "# SEASON_ID = hot encoding or embedding\n",
    "# GAME_ID = hot encoding or embedding\n",
    "# GAME_DATE = figure this out\n",
    "# WL = [0, 1]\n",
    "\n",
    "def preprocess(seasons):\n",
    "  # drop unnecessary columns: team_abbreviation, team_name, matchup, video_available\n",
    "  for season in seasons:\n",
    "    season.drop(columns=['TEAM_ABBREVIATION', 'TEAM_NAME', 'MATCHUP', 'VIDEO_AVAILABLE'])\n",
    "\n",
    "  seasons = map_home_and_away(seasons)\n",
    "  \n",
    "  # do whatever else with pandas before they are turned into numpy\n",
    "  # ...\n",
    "  \n",
    "  # seasons_np = np.array((len(seasons), 2, 10000, 24), dtype=np.float32)\n",
    "  for i, (home, away) in enumerate(seasons):\n",
    "    home.to_numpy(dtype=np.float32)\n",
    "    away.to_numpy(dtype=np.float32)\n",
    "    \n",
    "  seasons_np = np.array(seasons, dtype=np.float32)\n",
    "  \n",
    "  return seasons_np\n",
    "\n",
    "seasons_np = preprocess(seasons)"
   ]
  },
  {
   "cell_type": "code",
   "execution_count": 60,
   "id": "b04f8a47-2d67-4c75-82c9-e5bcb811bfc3",
   "metadata": {},
   "outputs": [
    {
     "name": "stdout",
     "output_type": "stream",
     "text": [
      "<class 'pandas.core.frame.DataFrame'>\n",
      "RangeIndex: 2460 entries, 0 to 2459\n",
      "Data columns (total 29 columns):\n",
      " #   Column             Non-Null Count  Dtype  \n",
      "---  ------             --------------  -----  \n",
      " 0   SEASON_ID          2460 non-null   object \n",
      " 1   TEAM_ID            2460 non-null   int64  \n",
      " 2   TEAM_ABBREVIATION  2460 non-null   object \n",
      " 3   TEAM_NAME          2460 non-null   object \n",
      " 4   GAME_ID            2460 non-null   object \n",
      " 5   GAME_DATE          2460 non-null   object \n",
      " 6   MATCHUP            2460 non-null   object \n",
      " 7   WL                 2460 non-null   object \n",
      " 8   MIN                2460 non-null   int64  \n",
      " 9   FGM                2460 non-null   int64  \n",
      " 10  FGA                2460 non-null   int64  \n",
      " 11  FG_PCT             2460 non-null   float64\n",
      " 12  FG3M               2460 non-null   int64  \n",
      " 13  FG3A               2460 non-null   int64  \n",
      " 14  FG3_PCT            2460 non-null   float64\n",
      " 15  FTM                2460 non-null   int64  \n",
      " 16  FTA                2460 non-null   int64  \n",
      " 17  FT_PCT             2460 non-null   float64\n",
      " 18  OREB               2460 non-null   int64  \n",
      " 19  DREB               2460 non-null   int64  \n",
      " 20  REB                2460 non-null   int64  \n",
      " 21  AST                2460 non-null   int64  \n",
      " 22  STL                2460 non-null   int64  \n",
      " 23  BLK                2460 non-null   int64  \n",
      " 24  TOV                2460 non-null   int64  \n",
      " 25  PF                 2460 non-null   int64  \n",
      " 26  PTS                2460 non-null   int64  \n",
      " 27  PLUS_MINUS         2460 non-null   int64  \n",
      " 28  VIDEO_AVAILABLE    2460 non-null   int64  \n",
      "dtypes: float64(3), int64(19), object(7)\n",
      "memory usage: 557.5+ KB\n"
     ]
    }
   ],
   "source": [
    "seasons[0].info()"
   ]
  },
  {
   "cell_type": "code",
   "execution_count": null,
   "id": "c929a03c-d64a-4e72-9414-483aef10449e",
   "metadata": {},
   "outputs": [],
   "source": []
  }
 ],
 "metadata": {
  "kernelspec": {
   "display_name": "Python 3 (ipykernel)",
   "language": "python",
   "name": "python3"
  },
  "language_info": {
   "codemirror_mode": {
    "name": "ipython",
    "version": 3
   },
   "file_extension": ".py",
   "mimetype": "text/x-python",
   "name": "python",
   "nbconvert_exporter": "python",
   "pygments_lexer": "ipython3",
   "version": "3.12.3"
  }
 },
 "nbformat": 4,
 "nbformat_minor": 5
}
