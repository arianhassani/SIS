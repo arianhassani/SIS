{
 "cells": [
  {
   "cell_type": "code",
   "execution_count": 48,
   "id": "ca88c79c-caa7-41d8-9c1a-622d24750664",
   "metadata": {
    "scrolled": true
   },
   "outputs": [
    {
     "name": "stdout",
     "output_type": "stream",
     "text": [
      "5019\n",
      "<class 'dict'>\n",
      "{'id': 76001, 'full_name': 'Alaa Abdelnaby', 'first_name': 'Alaa', 'last_name': 'Abdelnaby', 'is_active': False}\n"
     ]
    }
   ],
   "source": [
    "import numpy as np\n",
    "import pandas as pd\n",
    "from nba_api.stats.endpoints import playergamelogs\n",
    "from nba_api.stats.static import players, teams\n",
    "import time\n",
    "from datetime import date\n",
    "\n",
    "test1 = players.get_players()\n",
    "print(len(test1))\n",
    "print(type(test1[0]))\n",
    "# df = pd.DataFrame(test1[0])\n",
    "# df.info()\n",
    "print(test1[0])\n",
    "\n",
    "# print(test1.get_data_frames()[0].info())\n",
    "# print(test1.get_data_frames()[0][['FROM_YEAR', 'TO_YEAR', 'PLAYER_FIRST_NAME', 'PLAYER_LAST_NAME']])\n",
    "test = playergamelogs.PlayerGameLogs(season_nullable='2015-16', league_id_nullable='00')"
   ]
  },
  {
   "cell_type": "code",
   "execution_count": 50,
   "id": "994cc3ae-f0d2-44fd-a492-1dee10e16e14",
   "metadata": {},
   "outputs": [
    {
     "name": "stdout",
     "output_type": "stream",
     "text": [
      "<class 'pandas.core.frame.DataFrame'>\n",
      "RangeIndex: 26078 entries, 0 to 26077\n",
      "Data columns (total 69 columns):\n",
      " #   Column                 Non-Null Count  Dtype  \n",
      "---  ------                 --------------  -----  \n",
      " 0   SEASON_YEAR            26078 non-null  object \n",
      " 1   PLAYER_ID              26078 non-null  int64  \n",
      " 2   PLAYER_NAME            26078 non-null  object \n",
      " 3   NICKNAME               26078 non-null  object \n",
      " 4   TEAM_ID                26078 non-null  int64  \n",
      " 5   TEAM_ABBREVIATION      26078 non-null  object \n",
      " 6   TEAM_NAME              26078 non-null  object \n",
      " 7   GAME_ID                26078 non-null  object \n",
      " 8   GAME_DATE              26078 non-null  object \n",
      " 9   MATCHUP                26078 non-null  object \n",
      " 10  WL                     26078 non-null  object \n",
      " 11  MIN                    26078 non-null  float64\n",
      " 12  FGM                    26078 non-null  int64  \n",
      " 13  FGA                    26078 non-null  int64  \n",
      " 14  FG_PCT                 26078 non-null  float64\n",
      " 15  FG3M                   26078 non-null  int64  \n",
      " 16  FG3A                   26078 non-null  int64  \n",
      " 17  FG3_PCT                26078 non-null  float64\n",
      " 18  FTM                    26078 non-null  int64  \n",
      " 19  FTA                    26078 non-null  int64  \n",
      " 20  FT_PCT                 26078 non-null  float64\n",
      " 21  OREB                   26078 non-null  int64  \n",
      " 22  DREB                   26078 non-null  int64  \n",
      " 23  REB                    26078 non-null  int64  \n",
      " 24  AST                    26078 non-null  int64  \n",
      " 25  TOV                    26078 non-null  int64  \n",
      " 26  STL                    26078 non-null  int64  \n",
      " 27  BLK                    26078 non-null  int64  \n",
      " 28  BLKA                   26078 non-null  int64  \n",
      " 29  PF                     26078 non-null  int64  \n",
      " 30  PFD                    26078 non-null  int64  \n",
      " 31  PTS                    26078 non-null  int64  \n",
      " 32  PLUS_MINUS             26078 non-null  int64  \n",
      " 33  NBA_FANTASY_PTS        26078 non-null  float64\n",
      " 34  DD2                    26078 non-null  int64  \n",
      " 35  TD3                    26078 non-null  int64  \n",
      " 36  WNBA_FANTASY_PTS       26078 non-null  float64\n",
      " 37  GP_RANK                26078 non-null  int64  \n",
      " 38  W_RANK                 26078 non-null  int64  \n",
      " 39  L_RANK                 26078 non-null  int64  \n",
      " 40  W_PCT_RANK             26078 non-null  int64  \n",
      " 41  MIN_RANK               26078 non-null  int64  \n",
      " 42  FGM_RANK               26078 non-null  int64  \n",
      " 43  FGA_RANK               26078 non-null  int64  \n",
      " 44  FG_PCT_RANK            26078 non-null  int64  \n",
      " 45  FG3M_RANK              26078 non-null  int64  \n",
      " 46  FG3A_RANK              26078 non-null  int64  \n",
      " 47  FG3_PCT_RANK           26078 non-null  int64  \n",
      " 48  FTM_RANK               26078 non-null  int64  \n",
      " 49  FTA_RANK               26078 non-null  int64  \n",
      " 50  FT_PCT_RANK            26078 non-null  int64  \n",
      " 51  OREB_RANK              26078 non-null  int64  \n",
      " 52  DREB_RANK              26078 non-null  int64  \n",
      " 53  REB_RANK               26078 non-null  int64  \n",
      " 54  AST_RANK               26078 non-null  int64  \n",
      " 55  TOV_RANK               26078 non-null  int64  \n",
      " 56  STL_RANK               26078 non-null  int64  \n",
      " 57  BLK_RANK               26078 non-null  int64  \n",
      " 58  BLKA_RANK              26078 non-null  int64  \n",
      " 59  PF_RANK                26078 non-null  int64  \n",
      " 60  PFD_RANK               26078 non-null  int64  \n",
      " 61  PTS_RANK               26078 non-null  int64  \n",
      " 62  PLUS_MINUS_RANK        26078 non-null  int64  \n",
      " 63  NBA_FANTASY_PTS_RANK   26078 non-null  int64  \n",
      " 64  DD2_RANK               26078 non-null  int64  \n",
      " 65  TD3_RANK               26078 non-null  int64  \n",
      " 66  WNBA_FANTASY_PTS_RANK  26078 non-null  int64  \n",
      " 67  AVAILABLE_FLAG         26057 non-null  float64\n",
      " 68  MIN_SEC                26078 non-null  object \n",
      "dtypes: float64(7), int64(52), object(10)\n",
      "memory usage: 13.7+ MB\n"
     ]
    }
   ],
   "source": [
    "test.get_data_frames()[0].info()"
   ]
  },
  {
   "cell_type": "code",
   "execution_count": null,
   "id": "23aba361-ae25-4822-acfa-7cbf2030af68",
   "metadata": {},
   "outputs": [],
   "source": []
  }
 ],
 "metadata": {
  "kernelspec": {
   "display_name": "Python 3 (ipykernel)",
   "language": "python",
   "name": "python3"
  },
  "language_info": {
   "codemirror_mode": {
    "name": "ipython",
    "version": 3
   },
   "file_extension": ".py",
   "mimetype": "text/x-python",
   "name": "python",
   "nbconvert_exporter": "python",
   "pygments_lexer": "ipython3",
   "version": "3.10.14"
  }
 },
 "nbformat": 4,
 "nbformat_minor": 5
}
