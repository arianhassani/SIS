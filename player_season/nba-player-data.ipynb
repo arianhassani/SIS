{
 "cells": [
  {
   "cell_type": "code",
   "execution_count": 53,
   "metadata": {},
   "outputs": [],
   "source": [
    "#Player stats\n",
    "# Get all player stats for each year\n",
    "from nba_api.stats.static import players\n",
    "from nba_api.stats.endpoints import playergamelog, playercareerstats, playercareerstats, playergamelogs\n",
    "\n",
    "import numpy as np\n",
    "import pandas as pd\n"
   ]
  },
  {
   "cell_type": "code",
   "execution_count": 58,
   "metadata": {},
   "outputs": [],
   "source": [
    "# TODO Find efficient weight paramater (ELO) to be used in linear regression\n",
    "# TODO plot data, linear regression may not capture much data due to distribition\n",
    "# TODO plot player and game data with various plots (list of plots on note)"
   ]
  },
  {
   "cell_type": "code",
   "execution_count": 55,
   "metadata": {},
   "outputs": [
    {
     "name": "stdout",
     "output_type": "stream",
     "text": [
      "0\n",
      "1\n",
      "2\n",
      "3\n",
      "4\n",
      "5\n",
      "6\n",
      "7\n",
      "8\n",
      "9\n",
      "10\n",
      "11\n",
      "12\n",
      "13\n",
      "14\n",
      "15\n",
      "16\n",
      "17\n",
      "18\n",
      "19\n",
      "20\n",
      "21\n",
      "22\n",
      "23\n",
      "24\n",
      "25\n",
      "26\n",
      "27\n",
      "28\n",
      "29\n",
      "30\n",
      "31\n",
      "32\n",
      "33\n",
      "34\n",
      "35\n",
      "36\n",
      "37\n",
      "38\n",
      "39\n",
      "40\n",
      "41\n",
      "42\n",
      "43\n",
      "44\n",
      "45\n",
      "46\n"
     ]
    }
   ],
   "source": [
    "year_start = 1946\n",
    "file_name = \"season_year_start_player_data_\"\n",
    "results = []\n",
    "count = 0\n",
    "for year_addition in range(len(results)):\n",
    "    results[count].to_csv(file_name + str(year_start + year_addition))\n",
    "    print(count)\n",
    "    count = count + 1\n",
    "    "
   ]
  },
  {
   "cell_type": "code",
   "execution_count": 56,
   "metadata": {},
   "outputs": [],
   "source": [
    "players = pd.DataFrame(pd.read_csv(\"players.csv\"))\n",
    "\n",
    "def find_player_id(player_full_name):\n",
    "    for i in range(0, len(players)):\n",
    "        player = players.iloc[i]\n",
    "        if player[\"full_name\"] == player_full_name:\n",
    "            return player['id']\n",
    "        \n",
    "\n",
    "        \n",
    "def get_player_stat_for_season(player_id,  season_start, player_name = None):\n",
    "    # check if player played for that season.\n",
    "    # if not played return program with error\n",
    "    file_location = \"../player_season/player_season_data/season_year_start_player_data_\" + str(season_start)\n",
    "    season = pd.read_csv(file_location)\n",
    "    return(season)\n",
    "\n",
    "\n",
    "\n",
    "def get_stat_for_player(season, player_id):\n",
    "     player_stat = season[season['PLAYER_ID'] == player_id]        \n",
    "     return player_stat\n",
    "             \n",
    "# data frame object\n",
    "# player_season_stat = get_stat_for_player(get_player_stat_for_season(player_id=find_player_id(\"LeBron James\"), season_start=\"2014\"),player_id=find_player_id(\"LeBron James\"))\n",
    "\n",
    "\n",
    "get_stat_for_player(get_player_stat_for_season(player_id=find_player_id(\"LeBron James\"), season_start=\"2014\"),player_id=find_player_id(\"LeBron James\")).to_csv(\"lebron_test_file.csv\")\n",
    "\n",
    "\n",
    "\n",
    "\n",
    "\n"
   ]
  },
  {
   "cell_type": "code",
   "execution_count": 57,
   "metadata": {},
   "outputs": [],
   "source": [
    "# data preprocessing and cleaning and analysis\n",
    "\n",
    "# for every player_stat_object "
   ]
  }
 ],
 "metadata": {
  "kernelspec": {
   "display_name": "Python 3",
   "language": "python",
   "name": "python3"
  },
  "language_info": {
   "codemirror_mode": {
    "name": "ipython",
    "version": 3
   },
   "file_extension": ".py",
   "mimetype": "text/x-python",
   "name": "python",
   "nbconvert_exporter": "python",
   "pygments_lexer": "ipython3",
   "version": "3.12.5"
  }
 },
 "nbformat": 4,
 "nbformat_minor": 2
}
