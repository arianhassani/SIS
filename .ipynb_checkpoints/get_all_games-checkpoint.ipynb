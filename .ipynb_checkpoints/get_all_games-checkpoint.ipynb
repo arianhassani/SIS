{
 "cells": [
  {
   "cell_type": "code",
   "execution_count": 2,
   "id": "003a335d-a781-48db-a7ff-6b74d5fc194c",
   "metadata": {},
   "outputs": [],
   "source": [
    "import numpy as np\n",
    "from nba_api.stats.endpoints import leaguegamelog\n",
    "import time\n",
    "from datetime import date\n",
    "\n",
    "def get_all_games(start_year=1946, end_year=2023):\n",
    "  results = []\n",
    "  for year in range(start_year, end_year):\n",
    "    season = '{}-{}'.format(year, str(year + 1)[-2:])\n",
    "    res = leaguegamelog.LeagueGameLog(counter=10000, season=season)\n",
    "    res_frame = res.get_data_frames()[0]\n",
    "    results.append(res_frame)\n",
    "    time.sleep(1)\n",
    "  return results\n",
    "    \n",
    "seasons = get_all_games(2013, 2023)"
   ]
  },
  {
   "cell_type": "code",
   "execution_count": 3,
   "id": "02aedd14-0174-426c-afae-01b7872f8bbd",
   "metadata": {},
   "outputs": [
    {
     "data": {
      "text/plain": [
       "SEASON_ID                    22013\n",
       "TEAM_ID                 1610612741\n",
       "TEAM_ABBREVIATION              CHI\n",
       "TEAM_NAME            Chicago Bulls\n",
       "GAME_ID                 0021300002\n",
       "GAME_DATE               2013-10-29\n",
       "MATCHUP                  CHI @ MIA\n",
       "WL                               L\n",
       "MIN                            240\n",
       "FGM                             35\n",
       "FGA                             83\n",
       "FG_PCT                       0.422\n",
       "FG3M                             7\n",
       "FG3A                            26\n",
       "FG3_PCT                      0.269\n",
       "FTM                             18\n",
       "FTA                             23\n",
       "FT_PCT                       0.783\n",
       "OREB                            11\n",
       "DREB                            30\n",
       "REB                             41\n",
       "AST                             23\n",
       "STL                             11\n",
       "BLK                              4\n",
       "TOV                             19\n",
       "PF                              27\n",
       "PTS                             95\n",
       "PLUS_MINUS                     -12\n",
       "VIDEO_AVAILABLE                  1\n",
       "Name: 0, dtype: object"
      ]
     },
     "execution_count": 3,
     "metadata": {},
     "output_type": "execute_result"
    }
   ],
   "source": [
    "seasons[0].loc[0]"
   ]
  },
  {
   "cell_type": "code",
   "execution_count": 124,
   "id": "7a32fd65-23b9-4442-ab71-11cc6835033e",
   "metadata": {},
   "outputs": [],
   "source": [
    "# games retrieved include the stats for both teams as separate rows, so put them in 'home' or 'away' respectively\n",
    "def map_home_and_away(seasons):\n",
    "  results_all_season = []\n",
    "  for season in seasons:\n",
    "    results_for_season = []\n",
    "    results_for_season.append(season[season.duplicated(subset='GAME_ID', keep='first')])\n",
    "    results_for_season.append(season[season.duplicated(subset='GAME_ID', keep='last')])\n",
    "\n",
    "    results_all_season.append(results_for_season)\n",
    "    \n",
    "  return results_all_season\n",
    "\n",
    "# seasons_home_and_away = map_home_and_away(results)"
   ]
  },
  {
   "cell_type": "code",
   "execution_count": 125,
   "id": "75607a06-d5f8-43e8-9430-99be35be68d9",
   "metadata": {},
   "outputs": [
    {
     "name": "stdout",
     "output_type": "stream",
     "text": [
      "<class 'pandas.core.frame.DataFrame'>\n",
      "Index: 1230 entries, 1 to 2459\n",
      "Data columns (total 25 columns):\n",
      " #   Column      Non-Null Count  Dtype  \n",
      "---  ------      --------------  -----  \n",
      " 0   SEASON_ID   1230 non-null   int64  \n",
      " 1   TEAM_ID     1230 non-null   int64  \n",
      " 2   GAME_ID     1230 non-null   int64  \n",
      " 3   GAME_DATE   1230 non-null   int64  \n",
      " 4   WL          1230 non-null   float64\n",
      " 5   MIN         1230 non-null   int64  \n",
      " 6   FGM         1230 non-null   int64  \n",
      " 7   FGA         1230 non-null   int64  \n",
      " 8   FG_PCT      1230 non-null   float64\n",
      " 9   FG3M        1230 non-null   int64  \n",
      " 10  FG3A        1230 non-null   int64  \n",
      " 11  FG3_PCT     1230 non-null   float64\n",
      " 12  FTM         1230 non-null   int64  \n",
      " 13  FTA         1230 non-null   int64  \n",
      " 14  FT_PCT      1230 non-null   float64\n",
      " 15  OREB        1230 non-null   int64  \n",
      " 16  DREB        1230 non-null   int64  \n",
      " 17  REB         1230 non-null   int64  \n",
      " 18  AST         1230 non-null   int64  \n",
      " 19  STL         1230 non-null   int64  \n",
      " 20  BLK         1230 non-null   int64  \n",
      " 21  TOV         1230 non-null   int64  \n",
      " 22  PF          1230 non-null   int64  \n",
      " 23  PTS         1230 non-null   int64  \n",
      " 24  PLUS_MINUS  1230 non-null   int64  \n",
      "dtypes: float64(4), int64(21)\n",
      "memory usage: 249.8 KB\n",
      "[[ 0.000e+00  1.700e+01  1.225e+03  1.225e+03  1.000e+00  2.400e+02\n",
      "   4.100e+01  8.800e+01  4.660e-01  1.100e+01  2.300e+01  4.780e-01\n",
      "   8.000e+00  1.100e+01  7.270e-01  1.500e+01  3.700e+01  5.200e+01\n",
      "   2.600e+01  5.000e+00  2.000e+00  1.200e+01  1.700e+01  1.010e+02\n",
      "   1.500e+01]\n",
      " [ 0.000e+00  2.100e+01  1.226e+03  1.226e+03  0.000e+00  2.400e+02\n",
      "   3.700e+01  8.600e+01  4.300e-01  4.000e+00  1.900e+01  2.110e-01\n",
      "   2.100e+01  3.000e+01  7.000e-01  1.300e+01  4.100e+01  5.400e+01\n",
      "   1.900e+01  8.000e+00  3.000e+00  1.700e+01  2.000e+01  9.900e+01\n",
      "  -5.000e+00]\n",
      " [ 0.000e+00  0.000e+00  1.227e+03  1.227e+03  1.000e+00  2.400e+02\n",
      "   4.100e+01  7.600e+01  5.390e-01  8.000e+00  2.400e+01  3.330e-01\n",
      "   2.100e+01  2.600e+01  8.080e-01  4.000e+00  2.600e+01  3.000e+01\n",
      "   2.900e+01  1.300e+01  2.000e+00  1.200e+01  1.800e+01  1.110e+02\n",
      "   8.000e+00]\n",
      " [ 0.000e+00  1.500e+01  1.228e+03  1.228e+03  1.000e+00  2.400e+02\n",
      "   3.700e+01  8.100e+01  4.570e-01  8.000e+00  1.700e+01  4.710e-01\n",
      "   1.300e+01  1.900e+01  6.840e-01  1.100e+01  2.500e+01  3.600e+01\n",
      "   1.300e+01  1.200e+01  6.000e+00  1.600e+01  2.300e+01  9.500e+01\n",
      "   3.000e+00]\n",
      " [ 0.000e+00  1.000e+00  1.229e+03  1.229e+03  0.000e+00  2.400e+02\n",
      "   3.900e+01  8.400e+01  4.640e-01  7.000e+00  3.000e+01  2.330e-01\n",
      "   1.700e+01  2.300e+01  7.390e-01  1.100e+01  2.600e+01  3.700e+01\n",
      "   2.400e+01  8.000e+00  1.000e+00  1.400e+01  1.600e+01  1.020e+02\n",
      "  -1.600e+01]]\n",
      "[[ 1.000e+00  2.700e+01  2.455e+03  2.455e+03  0.000e+00  2.650e+02\n",
      "   4.200e+01  9.700e+01  4.330e-01  8.000e+00  2.200e+01  3.640e-01\n",
      "   1.600e+01  2.100e+01  7.620e-01  1.500e+01  3.500e+01  5.000e+01\n",
      "   2.600e+01  8.000e+00  5.000e+00  1.400e+01  1.300e+01  1.080e+02\n",
      "  -5.000e+00]\n",
      " [ 1.000e+00  1.000e+01  2.456e+03  2.456e+03  0.000e+00  2.400e+02\n",
      "   3.600e+01  9.400e+01  3.830e-01  7.000e+00  2.400e+01  2.920e-01\n",
      "   2.000e+01  2.500e+01  8.000e-01  1.600e+01  3.000e+01  4.600e+01\n",
      "   2.200e+01  6.000e+00  8.000e+00  1.500e+01  2.800e+01  9.900e+01\n",
      "  -2.300e+01]\n",
      " [ 1.000e+00  1.400e+01  2.457e+03  2.457e+03  1.000e+00  2.400e+02\n",
      "   3.900e+01  8.000e+01  4.880e-01  9.000e+00  2.400e+01  3.750e-01\n",
      "   1.400e+01  2.300e+01  6.090e-01  7.000e+00  3.300e+01  4.000e+01\n",
      "   2.500e+01  8.000e+00  5.000e+00  1.300e+01  1.200e+01  1.010e+02\n",
      "   1.300e+01]\n",
      " [ 1.000e+00  4.000e+00  2.458e+03  2.458e+03  1.000e+00  2.400e+02\n",
      "   3.100e+01  7.700e+01  4.030e-01  7.000e+00  2.400e+01  2.920e-01\n",
      "   2.200e+01  2.600e+01  8.460e-01  7.000e+00  4.300e+01  5.000e+01\n",
      "   1.400e+01  1.100e+01  9.000e+00  2.200e+01  1.200e+01  9.100e+01\n",
      "   6.000e+00]\n",
      " [ 1.000e+00  2.800e+01  2.459e+03  2.459e+03  1.000e+00  2.400e+02\n",
      "   4.100e+01  8.100e+01  5.060e-01  1.000e+01  2.600e+01  3.850e-01\n",
      "   2.000e+01  2.700e+01  7.410e-01  1.100e+01  3.300e+01  4.400e+01\n",
      "   2.000e+01  1.400e+01  3.000e+00  1.300e+01  2.200e+01  1.120e+02\n",
      "   2.200e+01]]\n",
      "[[ 2.000e+00  1.000e+01  3.685e+03  3.685e+03  1.000e+00  2.400e+02\n",
      "   4.100e+01  8.500e+01  4.820e-01  6.000e+00  2.500e+01  2.400e-01\n",
      "   1.300e+01  1.500e+01  8.670e-01  8.000e+00  3.900e+01  4.700e+01\n",
      "   1.900e+01  6.000e+00  3.000e+00  1.400e+01  1.700e+01  1.010e+02\n",
      "   5.000e+00]\n",
      " [ 2.000e+00  1.300e+01  3.686e+03  3.686e+03  1.000e+00  2.400e+02\n",
      "   5.600e+01  8.600e+01  6.510e-01  1.300e+01  2.800e+01  4.640e-01\n",
      "   1.900e+01  2.300e+01  8.260e-01  5.000e+00  3.800e+01  4.300e+01\n",
      "   4.100e+01  1.400e+01  8.000e+00  1.300e+01  2.000e+01  1.440e+02\n",
      "   3.500e+01]\n",
      " [ 2.000e+00  1.200e+01  3.687e+03  3.687e+03  0.000e+00  2.400e+02\n",
      "   3.700e+01  8.700e+01  4.250e-01  7.000e+00  2.300e+01  3.040e-01\n",
      "   1.100e+01  1.300e+01  8.460e-01  7.000e+00  3.600e+01  4.300e+01\n",
      "   2.300e+01  8.000e+00  3.000e+00  1.500e+01  1.500e+01  9.200e+01\n",
      "  -5.000e+00]\n",
      " [ 2.000e+00  5.000e+00  3.688e+03  3.688e+03  0.000e+00  2.400e+02\n",
      "   3.100e+01  7.700e+01  4.030e-01  1.200e+01  3.900e+01  3.080e-01\n",
      "   1.700e+01  2.100e+01  8.100e-01  1.100e+01  3.000e+01  4.100e+01\n",
      "   2.000e+01  8.000e+00  2.000e+00  1.200e+01  2.300e+01  9.100e+01\n",
      "  -5.000e+00]\n",
      " [ 2.000e+00  1.100e+01  3.689e+03  3.689e+03  0.000e+00  2.400e+02\n",
      "   3.800e+01  8.800e+01  4.320e-01  2.000e+00  1.900e+01  1.050e-01\n",
      "   1.000e+01  1.200e+01  8.330e-01  1.400e+01  3.000e+01  4.400e+01\n",
      "   1.400e+01  5.000e+00  1.000e+01  1.000e+01  2.100e+01  8.800e+01\n",
      "  -1.000e+01]]\n",
      "[[ 3.000e+00  2.000e+00  4.915e+03  4.915e+03  0.000e+00  2.400e+02\n",
      "   2.800e+01  7.600e+01  3.680e-01  1.000e+01  3.700e+01  2.700e-01\n",
      "   1.700e+01  2.400e+01  7.080e-01  1.000e+01  3.200e+01  4.200e+01\n",
      "   2.000e+01  5.000e+00  7.000e+00  1.500e+01  1.400e+01  8.300e+01\n",
      "  -1.500e+01]\n",
      " [ 3.000e+00  1.800e+01  4.916e+03  4.916e+03  0.000e+00  2.400e+02\n",
      "   4.600e+01  9.300e+01  4.950e-01  7.000e+00  2.300e+01  3.040e-01\n",
      "   1.400e+01  2.000e+01  7.000e-01  1.600e+01  2.200e+01  3.800e+01\n",
      "   2.100e+01  1.000e+01  4.000e+00  1.300e+01  2.500e+01  1.130e+02\n",
      "  -1.000e+00]\n",
      " [ 3.000e+00  2.500e+01  4.917e+03  4.917e+03  1.000e+00  2.400e+02\n",
      "   3.900e+01  7.700e+01  5.060e-01  1.000e+01  2.600e+01  3.850e-01\n",
      "   1.300e+01  2.000e+01  6.500e-01  7.000e+00  2.900e+01  3.600e+01\n",
      "   2.400e+01  1.000e+01  5.000e+00  1.700e+01  1.600e+01  1.010e+02\n",
      "   4.000e+00]\n",
      " [ 3.000e+00  5.000e+00  4.918e+03  4.918e+03  1.000e+00  2.400e+02\n",
      "   3.300e+01  7.500e+01  4.400e-01  9.000e+00  3.400e+01  2.650e-01\n",
      "   2.500e+01  3.100e+01  8.060e-01  8.000e+00  2.900e+01  3.700e+01\n",
      "   2.100e+01  9.000e+00  5.000e+00  1.200e+01  1.900e+01  1.000e+02\n",
      "   7.000e+00]\n",
      " [ 3.000e+00  8.000e+00  4.919e+03  4.919e+03  1.000e+00  2.400e+02\n",
      "   4.500e+01  9.700e+01  4.640e-01  1.900e+01  5.600e+01  3.390e-01\n",
      "   1.400e+01  2.200e+01  6.360e-01  1.600e+01  3.100e+01  4.700e+01\n",
      "   3.700e+01  1.100e+01  7.000e+00  1.000e+01  1.400e+01  1.230e+02\n",
      "   5.000e+00]]\n",
      "[[ 4.000e+00  1.300e+01  6.145e+03  6.145e+03  1.000e+00  2.650e+02\n",
      "   4.200e+01  8.900e+01  4.720e-01  9.000e+00  2.300e+01  3.910e-01\n",
      "   1.900e+01  2.500e+01  7.600e-01  8.000e+00  3.200e+01  4.000e+01\n",
      "   2.400e+01  1.000e+01  2.000e+00  8.000e+00  1.900e+01  1.120e+02\n",
      "   6.000e+00]\n",
      " [ 4.000e+00  9.000e+00  6.146e+03  6.146e+03  0.000e+00  2.400e+02\n",
      "   4.100e+01  8.300e+01  4.940e-01  6.000e+00  1.800e+01  3.330e-01\n",
      "   1.200e+01  2.800e+01  4.290e-01  8.000e+00  3.300e+01  4.100e+01\n",
      "   2.700e+01  8.000e+00  1.000e+00  1.700e+01  1.700e+01  1.000e+02\n",
      "  -1.500e+01]\n",
      " [ 4.000e+00  2.600e+01  6.147e+03  6.147e+03  0.000e+00  2.400e+02\n",
      "   4.400e+01  9.100e+01  4.840e-01  1.300e+01  3.100e+01  4.190e-01\n",
      "   2.200e+01  2.400e+01  9.170e-01  9.000e+00  3.200e+01  4.100e+01\n",
      "   2.200e+01  9.000e+00  2.000e+00  1.300e+01  2.200e+01  1.230e+02\n",
      "  -1.400e+01]\n",
      " [ 4.000e+00  1.400e+01  6.148e+03  6.148e+03  0.000e+00  2.400e+02\n",
      "   3.700e+01  9.100e+01  4.070e-01  1.100e+01  4.000e+01  2.750e-01\n",
      "   1.200e+01  1.600e+01  7.500e-01  1.000e+01  3.400e+01  4.400e+01\n",
      "   2.700e+01  1.000e+01  6.000e+00  1.600e+01  1.200e+01  9.700e+01\n",
      "  -1.300e+01]\n",
      " [ 4.000e+00  8.000e+00  6.149e+03  6.149e+03  0.000e+00  2.400e+02\n",
      "   3.100e+01  8.200e+01  3.780e-01  1.300e+01  4.600e+01  2.830e-01\n",
      "   8.000e+00  1.200e+01  6.670e-01  8.000e+00  3.200e+01  4.000e+01\n",
      "   1.100e+01  2.000e+00  6.000e+00  1.400e+01  2.400e+01  8.300e+01\n",
      "  -1.300e+01]]\n",
      "[[ 5.000e+00  2.900e+01  7.375e+03  7.375e+03  0.000e+00  2.400e+02\n",
      "   4.100e+01  7.800e+01  5.260e-01  8.000e+00  2.900e+01  2.760e-01\n",
      "   2.400e+01  2.700e+01  8.890e-01  4.000e+00  2.800e+01  3.200e+01\n",
      "   2.100e+01  3.000e+00  4.000e+00  8.000e+00  1.400e+01  1.140e+02\n",
      "  -8.000e+00]\n",
      " [ 5.000e+00  2.200e+01  7.376e+03  7.376e+03  1.000e+00  2.400e+02\n",
      "   4.100e+01  8.800e+01  4.660e-01  8.000e+00  2.400e+01  3.330e-01\n",
      "   1.500e+01  1.800e+01  8.330e-01  8.000e+00  4.500e+01  5.300e+01\n",
      "   2.200e+01  6.000e+00  2.000e+00  1.100e+01  1.400e+01  1.050e+02\n",
      "   1.100e+01]\n",
      " [ 5.000e+00  6.000e+00  7.377e+03  7.377e+03  1.000e+00  2.400e+02\n",
      "   3.900e+01  8.700e+01  4.480e-01  1.000e+01  3.300e+01  3.030e-01\n",
      "   1.100e+01  1.700e+01  6.470e-01  1.200e+01  4.100e+01  5.300e+01\n",
      "   2.300e+01  6.000e+00  4.000e+00  1.300e+01  1.200e+01  9.900e+01\n",
      "   4.000e+00]\n",
      " [ 5.000e+00  1.500e+01  7.378e+03  7.378e+03  0.000e+00  2.400e+02\n",
      "   3.100e+01  7.700e+01  4.030e-01  9.000e+00  3.000e+01  3.000e-01\n",
      "   1.800e+01  2.500e+01  7.200e-01  4.000e+00  2.900e+01  3.300e+01\n",
      "   2.300e+01  7.000e+00  5.000e+00  1.100e+01  1.700e+01  8.900e+01\n",
      "  -2.600e+01]\n",
      " [ 5.000e+00  2.000e+01  7.379e+03  7.379e+03  1.000e+00  2.400e+02\n",
      "   5.300e+01  9.100e+01  5.820e-01  1.400e+01  2.400e+01  5.830e-01\n",
      "   1.600e+01  2.200e+01  7.270e-01  1.400e+01  3.000e+01  4.400e+01\n",
      "   1.900e+01  5.000e+00  2.000e+00  1.300e+01  1.700e+01  1.360e+02\n",
      "   5.000e+00]]\n",
      "[[0. 0. 0. 0. 0. 0. 0. 0. 0. 0. 0. 0. 0. 0. 0. 0. 0. 0. 0. 0. 0. 0. 0. 0.\n",
      "  0.]\n",
      " [0. 0. 0. 0. 0. 0. 0. 0. 0. 0. 0. 0. 0. 0. 0. 0. 0. 0. 0. 0. 0. 0. 0. 0.\n",
      "  0.]\n",
      " [0. 0. 0. 0. 0. 0. 0. 0. 0. 0. 0. 0. 0. 0. 0. 0. 0. 0. 0. 0. 0. 0. 0. 0.\n",
      "  0.]\n",
      " [0. 0. 0. 0. 0. 0. 0. 0. 0. 0. 0. 0. 0. 0. 0. 0. 0. 0. 0. 0. 0. 0. 0. 0.\n",
      "  0.]\n",
      " [0. 0. 0. 0. 0. 0. 0. 0. 0. 0. 0. 0. 0. 0. 0. 0. 0. 0. 0. 0. 0. 0. 0. 0.\n",
      "  0.]]\n",
      "[[0. 0. 0. 0. 0. 0. 0. 0. 0. 0. 0. 0. 0. 0. 0. 0. 0. 0. 0. 0. 0. 0. 0. 0.\n",
      "  0.]\n",
      " [0. 0. 0. 0. 0. 0. 0. 0. 0. 0. 0. 0. 0. 0. 0. 0. 0. 0. 0. 0. 0. 0. 0. 0.\n",
      "  0.]\n",
      " [0. 0. 0. 0. 0. 0. 0. 0. 0. 0. 0. 0. 0. 0. 0. 0. 0. 0. 0. 0. 0. 0. 0. 0.\n",
      "  0.]\n",
      " [0. 0. 0. 0. 0. 0. 0. 0. 0. 0. 0. 0. 0. 0. 0. 0. 0. 0. 0. 0. 0. 0. 0. 0.\n",
      "  0.]\n",
      " [0. 0. 0. 0. 0. 0. 0. 0. 0. 0. 0. 0. 0. 0. 0. 0. 0. 0. 0. 0. 0. 0. 0. 0.\n",
      "  0.]]\n",
      "[[ 8.0000e+00  1.3000e+01  1.0744e+04  1.0744e+04  0.0000e+00  2.4000e+02\n",
      "   4.6000e+01  9.1000e+01  5.0500e-01  1.1000e+01  3.1000e+01  3.5500e-01\n",
      "   1.7000e+01  2.2000e+01  7.7300e-01  9.0000e+00  2.3000e+01  3.2000e+01\n",
      "   3.0000e+01  7.0000e+00  9.0000e+00  1.3000e+01  2.3000e+01  1.2000e+02\n",
      "  -4.0000e+00]\n",
      " [ 8.0000e+00  2.0000e+01  1.0745e+04  1.0745e+04  0.0000e+00  2.4000e+02\n",
      "   3.1000e+01  8.3000e+01  3.7300e-01  9.0000e+00  3.4000e+01  2.6500e-01\n",
      "   9.0000e+00  1.2000e+01  7.5000e-01  5.0000e+00  2.7000e+01  3.2000e+01\n",
      "   2.1000e+01  1.1000e+01  8.0000e+00  1.6000e+01  2.7000e+01  8.0000e+01\n",
      "  -3.1000e+01]\n",
      " [ 8.0000e+00  9.0000e+00  1.0746e+04  1.0746e+04  1.0000e+00  2.4000e+02\n",
      "   5.4000e+01  9.7000e+01  5.5700e-01  1.8000e+01  3.5000e+01  5.1400e-01\n",
      "   1.2000e+01  1.4000e+01  8.5700e-01  1.2000e+01  4.5000e+01  5.7000e+01\n",
      "   3.4000e+01  4.0000e+00  8.0000e+00  9.0000e+00  1.1000e+01  1.3800e+02\n",
      "   5.0000e+01]\n",
      " [ 8.0000e+00  7.0000e+00  1.0747e+04  1.0747e+04  1.0000e+00  2.4000e+02\n",
      "   4.9000e+01  8.1000e+01  6.0500e-01  1.9000e+01  3.3000e+01  5.7600e-01\n",
      "   1.1000e+01  1.3000e+01  8.4600e-01  7.0000e+00  3.4000e+01  4.1000e+01\n",
      "   3.3000e+01  5.0000e+00  2.0000e+00  1.7000e+01  1.5000e+01  1.2800e+02\n",
      "   2.1000e+01]\n",
      " [ 8.0000e+00  2.8000e+01  1.0748e+04  1.0748e+04  0.0000e+00  2.4000e+02\n",
      "   3.8000e+01  8.3000e+01  4.5800e-01  1.1000e+01  3.4000e+01  3.2400e-01\n",
      "   1.9000e+01  2.9000e+01  6.5500e-01  1.5000e+01  2.7000e+01  4.2000e+01\n",
      "   2.6000e+01  4.0000e+00  4.0000e+00  2.0000e+01  1.6000e+01  1.0600e+02\n",
      "  -1.2000e+01]]\n",
      "[[ 9.0000e+00  2.3000e+01  1.1974e+04  1.1974e+04  1.0000e+00  2.4000e+02\n",
      "   4.5000e+01  9.0000e+01  5.0000e-01  1.2000e+01  3.6000e+01  3.3300e-01\n",
      "   1.3000e+01  1.6000e+01  8.1300e-01  8.0000e+00  4.1000e+01  4.9000e+01\n",
      "   3.0000e+01  5.0000e+00  2.0000e+00  1.6000e+01  1.7000e+01  1.1500e+02\n",
      "   1.5000e+01]\n",
      " [ 9.0000e+00  6.0000e+00  1.1975e+04  1.1975e+04  1.0000e+00  2.4000e+02\n",
      "   4.2000e+01  8.4000e+01  5.0000e-01  7.0000e+00  2.8000e+01  2.5000e-01\n",
      "   1.8000e+01  2.5000e+01  7.2000e-01  1.5000e+01  3.6000e+01  5.1000e+01\n",
      "   2.5000e+01  1.1000e+01  2.0000e+00  2.0000e+01  1.5000e+01  1.0900e+02\n",
      "   1.4000e+01]\n",
      " [ 9.0000e+00  1.3000e+01  1.1976e+04  1.1976e+04  1.0000e+00  2.4000e+02\n",
      "   3.9000e+01  8.2000e+01  4.7600e-01  1.3000e+01  3.6000e+01  3.6100e-01\n",
      "   2.2000e+01  3.1000e+01  7.1000e-01  8.0000e+00  3.4000e+01  4.2000e+01\n",
      "   2.5000e+01  7.0000e+00  8.0000e+00  1.7000e+01  2.2000e+01  1.1300e+02\n",
      "   5.0000e+00]\n",
      " [ 9.0000e+00  8.0000e+00  1.1977e+04  1.1977e+04  1.0000e+00  2.4000e+02\n",
      "   4.4000e+01  9.0000e+01  4.8900e-01  6.0000e+00  2.1000e+01  2.8600e-01\n",
      "   2.0000e+01  2.8000e+01  7.1400e-01  1.3000e+01  3.8000e+01  5.1000e+01\n",
      "   2.4000e+01  8.0000e+00  6.0000e+00  1.5000e+01  1.5000e+01  1.1400e+02\n",
      "   5.0000e+00]\n",
      " [ 9.0000e+00  1.2000e+01  1.1978e+04  1.1978e+04  0.0000e+00  2.4000e+02\n",
      "   3.8000e+01  8.2000e+01  4.6300e-01  1.2000e+01  3.4000e+01  3.5300e-01\n",
      "   1.7000e+01  2.1000e+01  8.1000e-01  7.0000e+00  3.1000e+01  3.8000e+01\n",
      "   2.8000e+01  5.0000e+00  2.0000e+00  1.4000e+01  1.3000e+01  1.0500e+02\n",
      "  -1.6000e+01]]\n"
     ]
    },
    {
     "name": "stderr",
     "output_type": "stream",
     "text": [
      "/tmp/ipykernel_17180/3491307928.py:22: SettingWithCopyWarning: \n",
      "A value is trying to be set on a copy of a slice from a DataFrame.\n",
      "Try using .loc[row_indexer,col_indexer] = value instead\n",
      "\n",
      "See the caveats in the documentation: https://pandas.pydata.org/pandas-docs/stable/user_guide/indexing.html#returning-a-view-versus-a-copy\n",
      "  home['SEASON_ID'] = len(season_index) - 1\n",
      "/tmp/ipykernel_17180/3491307928.py:23: SettingWithCopyWarning: \n",
      "A value is trying to be set on a copy of a slice from a DataFrame.\n",
      "Try using .loc[row_indexer,col_indexer] = value instead\n",
      "\n",
      "See the caveats in the documentation: https://pandas.pydata.org/pandas-docs/stable/user_guide/indexing.html#returning-a-view-versus-a-copy\n",
      "  away['SEASON_ID'] = len(season_index) - 1\n",
      "/tmp/ipykernel_17180/3491307928.py:31: SettingWithCopyWarning: \n",
      "A value is trying to be set on a copy of a slice from a DataFrame.\n",
      "Try using .loc[row_indexer,col_indexer] = value instead\n",
      "\n",
      "See the caveats in the documentation: https://pandas.pydata.org/pandas-docs/stable/user_guide/indexing.html#returning-a-view-versus-a-copy\n",
      "  home['GAME_ID'] = range(start, end)\n",
      "/tmp/ipykernel_17180/3491307928.py:32: SettingWithCopyWarning: \n",
      "A value is trying to be set on a copy of a slice from a DataFrame.\n",
      "Try using .loc[row_indexer,col_indexer] = value instead\n",
      "\n",
      "See the caveats in the documentation: https://pandas.pydata.org/pandas-docs/stable/user_guide/indexing.html#returning-a-view-versus-a-copy\n",
      "  away['GAME_ID'] = range(start, end)\n",
      "/tmp/ipykernel_17180/3491307928.py:45: SettingWithCopyWarning: \n",
      "A value is trying to be set on a copy of a slice from a DataFrame.\n",
      "Try using .loc[row_indexer,col_indexer] = value instead\n",
      "\n",
      "See the caveats in the documentation: https://pandas.pydata.org/pandas-docs/stable/user_guide/indexing.html#returning-a-view-versus-a-copy\n",
      "  home['TEAM_ID'] = home['TEAM_ID'].map(team_id_dict.get)\n",
      "/tmp/ipykernel_17180/3491307928.py:46: SettingWithCopyWarning: \n",
      "A value is trying to be set on a copy of a slice from a DataFrame.\n",
      "Try using .loc[row_indexer,col_indexer] = value instead\n",
      "\n",
      "See the caveats in the documentation: https://pandas.pydata.org/pandas-docs/stable/user_guide/indexing.html#returning-a-view-versus-a-copy\n",
      "  away['TEAM_ID'] = away['TEAM_ID'].map(team_id_dict.get)\n",
      "/tmp/ipykernel_17180/3491307928.py:55: SettingWithCopyWarning: \n",
      "A value is trying to be set on a copy of a slice from a DataFrame.\n",
      "Try using .loc[row_indexer,col_indexer] = value instead\n",
      "\n",
      "See the caveats in the documentation: https://pandas.pydata.org/pandas-docs/stable/user_guide/indexing.html#returning-a-view-versus-a-copy\n",
      "  home['GAME_DATE'] = range(start, end)\n",
      "/tmp/ipykernel_17180/3491307928.py:56: SettingWithCopyWarning: \n",
      "A value is trying to be set on a copy of a slice from a DataFrame.\n",
      "Try using .loc[row_indexer,col_indexer] = value instead\n",
      "\n",
      "See the caveats in the documentation: https://pandas.pydata.org/pandas-docs/stable/user_guide/indexing.html#returning-a-view-versus-a-copy\n",
      "  away['GAME_DATE'] = range(start, end)\n"
     ]
    }
   ],
   "source": [
    "def preprocess(seasons):\n",
    "  \n",
    "  # drop unnecessary columns\n",
    "  for season in seasons:\n",
    "    season.drop(columns=['TEAM_ABBREVIATION', 'TEAM_NAME',\\\n",
    "                         'MATCHUP', 'VIDEO_AVAILABLE'], inplace=True, errors='ignore')\n",
    "\n",
    "  # convert WL to 0 and 1\n",
    "  # mapped 1 and 0 to themselves because couldn't seem to get\n",
    "  # na_action to ignore when already converted\n",
    "  WL = {'L': 0., 'W': 1., 1.:1., 0.:0.}\n",
    "  for season in seasons:\n",
    "    season['WL'] = season['WL'].map(WL.get, na_action='ignore')\n",
    "\n",
    "  # add home and away dimension\n",
    "  seasons = map_home_and_away(seasons)\n",
    "\n",
    "  # map season_id to index\n",
    "  season_index = []\n",
    "  for home, away in seasons:\n",
    "    season_index.append(home.iloc[0]['SEASON_ID'])\n",
    "    home['SEASON_ID'] = len(season_index) - 1\n",
    "    away['SEASON_ID'] = len(season_index) - 1\n",
    "\n",
    "  # map game_id to index\n",
    "  game_index = []\n",
    "  for home, away in seasons:\n",
    "    start = len(game_index)\n",
    "    game_index.extend(home['GAME_ID'].to_list())\n",
    "    end = len(game_index)\n",
    "    home['GAME_ID'] = range(start, end) \n",
    "    away['GAME_ID'] = range(start, end) \n",
    "\n",
    "  # get unique team_id's\n",
    "  team_id_set = set()\n",
    "  for home, _ in seasons:\n",
    "    team_id_set.update(home['TEAM_ID'].unique())\n",
    "\n",
    "  # map index to team_id\n",
    "  team_index = list(team_id_set)\n",
    "  # map team_id to index\n",
    "  team_id_dict = {team_index[i]: i for i in range(len(team_index))}\n",
    "\n",
    "  for home, away in seasons:\n",
    "    home['TEAM_ID'] = home['TEAM_ID'].map(team_id_dict.get)\n",
    "    away['TEAM_ID'] = away['TEAM_ID'].map(team_id_dict.get)\n",
    "\n",
    "  columns = list(seasons[0][0].columns)\n",
    "\n",
    "  dates_index = []\n",
    "  for home, away in seasons:\n",
    "    start = len(dates_index)\n",
    "    dates_index.extend(home['GAME_DATE'].map(date.fromisoformat).to_list())\n",
    "    end = len(dates_index)\n",
    "    home['GAME_DATE'] = range(start, end)\n",
    "    away['GAME_DATE'] = range(start, end)\n",
    "\n",
    "  # do whatever else with pandas before they are turned into numpy\n",
    "  # ...\n",
    "  \n",
    "  seasons[0][0].info()\n",
    "  max_row = 0\n",
    "  for home, _ in seasons:\n",
    "    max_row = max(home.shape[-2], max_row)\n",
    "    \n",
    "  for i, (home, away) in enumerate(seasons):\n",
    "    home.to_numpy(dtype=np.float32)\n",
    "    away.to_numpy(dtype=np.float32)\n",
    "    seasons[i][0] = np.pad(home, ((0, max_row - home.shape[-2]), (0, 0)), 'constant')\n",
    "    seasons[i][1] = np.pad(away, ((0, max_row - away.shape[-2]), (0, 0)), 'constant')\n",
    "    print(seasons[i][0][-5:])\n",
    "\n",
    "  seasons_np = np.array(seasons, dtype=np.float32)\n",
    "  \n",
    "  return seasons_np, columns, season_index, game_index, team_index, dates_index\n",
    "\n",
    "seasons_np, columns, season_index, game_index, team_index, dates_index = preprocess(seasons)"
   ]
  },
  {
   "cell_type": "code",
   "execution_count": 83,
   "id": "b04f8a47-2d67-4c75-82c9-e5bcb811bfc3",
   "metadata": {
    "scrolled": true
   },
   "outputs": [
    {
     "name": "stdout",
     "output_type": "stream",
     "text": [
      "<class 'pandas.core.frame.DataFrame'>\n",
      "RangeIndex: 2460 entries, 0 to 2459\n",
      "Data columns (total 25 columns):\n",
      " #   Column      Non-Null Count  Dtype  \n",
      "---  ------      --------------  -----  \n",
      " 0   SEASON_ID   2460 non-null   object \n",
      " 1   TEAM_ID     2460 non-null   int64  \n",
      " 2   GAME_ID     2460 non-null   object \n",
      " 3   GAME_DATE   2460 non-null   object \n",
      " 4   WL          2460 non-null   float64\n",
      " 5   MIN         2460 non-null   int64  \n",
      " 6   FGM         2460 non-null   int64  \n",
      " 7   FGA         2460 non-null   int64  \n",
      " 8   FG_PCT      2460 non-null   float64\n",
      " 9   FG3M        2460 non-null   int64  \n",
      " 10  FG3A        2460 non-null   int64  \n",
      " 11  FG3_PCT     2460 non-null   float64\n",
      " 12  FTM         2460 non-null   int64  \n",
      " 13  FTA         2460 non-null   int64  \n",
      " 14  FT_PCT      2460 non-null   float64\n",
      " 15  OREB        2460 non-null   int64  \n",
      " 16  DREB        2460 non-null   int64  \n",
      " 17  REB         2460 non-null   int64  \n",
      " 18  AST         2460 non-null   int64  \n",
      " 19  STL         2460 non-null   int64  \n",
      " 20  BLK         2460 non-null   int64  \n",
      " 21  TOV         2460 non-null   int64  \n",
      " 22  PF          2460 non-null   int64  \n",
      " 23  PTS         2460 non-null   int64  \n",
      " 24  PLUS_MINUS  2460 non-null   int64  \n",
      "dtypes: float64(4), int64(18), object(3)\n",
      "memory usage: 480.6+ KB\n"
     ]
    }
   ],
   "source": [
    "seasons[0].info()"
   ]
  },
  {
   "cell_type": "code",
   "execution_count": 115,
   "id": "c929a03c-d64a-4e72-9414-483aef10449e",
   "metadata": {},
   "outputs": [
    {
     "data": {
      "text/plain": [
       "(23, 2, 1230, 25)"
      ]
     },
     "execution_count": 115,
     "metadata": {},
     "output_type": "execute_result"
    }
   ],
   "source": [
    "seasons_np.shape"
   ]
  },
  {
   "cell_type": "code",
   "execution_count": 111,
   "id": "be415305-ad69-4595-a659-5c4da78222f6",
   "metadata": {},
   "outputs": [
    {
     "data": {
      "text/plain": [
       "array([ 3.000e+00,  2.800e+01,  3.695e+03,  3.695e+03,  0.000e+00,\n",
       "        2.400e+02,  3.500e+01,  8.400e+01,  4.170e-01,  4.000e+00,\n",
       "        2.200e+01,  1.820e-01,  1.700e+01,  2.200e+01,  7.730e-01,\n",
       "        8.000e+00,  3.200e+01,  4.000e+01,  1.700e+01,  8.000e+00,\n",
       "        0.000e+00,  1.400e+01,  2.400e+01,  9.100e+01, -1.800e+01],\n",
       "      dtype=float32)"
      ]
     },
     "execution_count": 111,
     "metadata": {},
     "output_type": "execute_result"
    }
   ],
   "source": [
    "seasons_np[3][1][5:8][0]"
   ]
  },
  {
   "cell_type": "code",
   "execution_count": 126,
   "id": "8718bb6f-329d-423c-bdbc-7dd804d3a418",
   "metadata": {},
   "outputs": [
    {
     "data": {
      "text/plain": [
       "['SEASON_ID',\n",
       " 'TEAM_ID',\n",
       " 'GAME_ID',\n",
       " 'GAME_DATE',\n",
       " 'WL',\n",
       " 'MIN',\n",
       " 'FGM',\n",
       " 'FGA',\n",
       " 'FG_PCT',\n",
       " 'FG3M',\n",
       " 'FG3A',\n",
       " 'FG3_PCT',\n",
       " 'FTM',\n",
       " 'FTA',\n",
       " 'FT_PCT',\n",
       " 'OREB',\n",
       " 'DREB',\n",
       " 'REB',\n",
       " 'AST',\n",
       " 'STL',\n",
       " 'BLK',\n",
       " 'TOV',\n",
       " 'PF',\n",
       " 'PTS',\n",
       " 'PLUS_MINUS']"
      ]
     },
     "execution_count": 126,
     "metadata": {},
     "output_type": "execute_result"
    }
   ],
   "source": [
    "columns"
   ]
  },
  {
   "cell_type": "code",
   "execution_count": 127,
   "id": "ae95dc68-762a-4496-a899-f2e30999f92c",
   "metadata": {},
   "outputs": [
    {
     "data": {
      "text/plain": [
       "['22013',\n",
       " '22014',\n",
       " '22015',\n",
       " '22016',\n",
       " '22017',\n",
       " '22018',\n",
       " '22019',\n",
       " '22020',\n",
       " '22021',\n",
       " '22022']"
      ]
     },
     "execution_count": 127,
     "metadata": {},
     "output_type": "execute_result"
    }
   ],
   "source": [
    "season_index"
   ]
  },
  {
   "cell_type": "code",
   "execution_count": 128,
   "id": "24857ca3-5bfa-4872-b8cc-8cc97a2fcbe0",
   "metadata": {},
   "outputs": [
    {
     "data": {
      "text/plain": [
       "['0021300003',\n",
       " '0021300001',\n",
       " '0021300002',\n",
       " '0021300007',\n",
       " '0021300008',\n",
       " '0021300016',\n",
       " '0021300009',\n",
       " '0021300014',\n",
       " '0021300006',\n",
       " '0021300010']"
      ]
     },
     "execution_count": 128,
     "metadata": {},
     "output_type": "execute_result"
    }
   ],
   "source": [
    "game_index[:10]"
   ]
  },
  {
   "cell_type": "code",
   "execution_count": 129,
   "id": "781bb0dd-ab2a-4d22-8274-42562b076f48",
   "metadata": {},
   "outputs": [
    {
     "data": {
      "text/plain": [
       "[1610612737,\n",
       " 1610612738,\n",
       " 1610612739,\n",
       " 1610612740,\n",
       " 1610612741,\n",
       " 1610612742,\n",
       " 1610612743,\n",
       " 1610612744,\n",
       " 1610612745,\n",
       " 1610612746,\n",
       " 1610612747,\n",
       " 1610612748,\n",
       " 1610612749,\n",
       " 1610612750,\n",
       " 1610612751,\n",
       " 1610612752,\n",
       " 1610612753,\n",
       " 1610612754,\n",
       " 1610612755,\n",
       " 1610612756,\n",
       " 1610612757,\n",
       " 1610612758,\n",
       " 1610612759,\n",
       " 1610612760,\n",
       " 1610612761,\n",
       " 1610612762,\n",
       " 1610612763,\n",
       " 1610612764,\n",
       " 1610612765,\n",
       " 1610612766]"
      ]
     },
     "execution_count": 129,
     "metadata": {},
     "output_type": "execute_result"
    }
   ],
   "source": [
    "team_index"
   ]
  },
  {
   "cell_type": "code",
   "execution_count": 130,
   "id": "0dd643a4-bf64-49b6-ac72-d0d9ebab37ff",
   "metadata": {},
   "outputs": [
    {
     "data": {
      "text/plain": [
       "[datetime.date(2013, 10, 29),\n",
       " datetime.date(2013, 10, 29),\n",
       " datetime.date(2013, 10, 29),\n",
       " datetime.date(2013, 10, 30),\n",
       " datetime.date(2013, 10, 30)]"
      ]
     },
     "execution_count": 130,
     "metadata": {},
     "output_type": "execute_result"
    }
   ],
   "source": [
    "dates_index[:5]"
   ]
  },
  {
   "cell_type": "code",
   "execution_count": 131,
   "id": "8cf713ac-a445-4e25-a2ff-8d13932c5f0e",
   "metadata": {},
   "outputs": [
    {
     "data": {
      "text/plain": [
       "(10, 2, 1230, 25)"
      ]
     },
     "execution_count": 131,
     "metadata": {},
     "output_type": "execute_result"
    }
   ],
   "source": [
    "seasons_np.shape"
   ]
  },
  {
   "cell_type": "code",
   "execution_count": 134,
   "id": "842e922a-0600-45ad-b1c2-09a4a9a59d11",
   "metadata": {},
   "outputs": [],
   "source": [
    "seasons_np_T = seasons_np.transpose(0, 2, 1, 3)"
   ]
  },
  {
   "cell_type": "code",
   "execution_count": 135,
   "id": "e4666d9b-9194-46ab-a956-d09e86671db4",
   "metadata": {},
   "outputs": [
    {
     "data": {
      "text/plain": [
       "(10, 1230, 2, 25)"
      ]
     },
     "execution_count": 135,
     "metadata": {},
     "output_type": "execute_result"
    }
   ],
   "source": [
    "seasons_np_T.shape"
   ]
  },
  {
   "cell_type": "code",
   "execution_count": null,
   "id": "88b60c92-93ea-4910-a008-616ab3bcdc28",
   "metadata": {},
   "outputs": [],
   "source": []
  }
 ],
 "metadata": {
  "kernelspec": {
   "display_name": "Python 3 (ipykernel)",
   "language": "python",
   "name": "python3"
  },
  "language_info": {
   "codemirror_mode": {
    "name": "ipython",
    "version": 3
   },
   "file_extension": ".py",
   "mimetype": "text/x-python",
   "name": "python",
   "nbconvert_exporter": "python",
   "pygments_lexer": "ipython3",
   "version": "3.12.5"
  }
 },
 "nbformat": 4,
 "nbformat_minor": 5
}
